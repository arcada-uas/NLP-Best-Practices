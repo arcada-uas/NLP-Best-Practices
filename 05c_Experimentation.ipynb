{
  "nbformat": 4,
  "nbformat_minor": 0,
  "metadata": {
    "colab": {
      "name": "05c_Experimentation.ipynb",
      "version": "0.3.2",
      "provenance": []
    },
    "kernelspec": {
      "name": "python3",
      "display_name": "Python 3"
    },
    "accelerator": "GPU"
  },
  "cells": [
    {
      "cell_type": "markdown",
      "metadata": {
        "id": "odbLwNcQigEh",
        "colab_type": "text"
      },
      "source": [
        "# Experimentation\n",
        "\n",
        "So we saw that ensembling Spacy tokenized forward and backwards models worked pretty decent... let's take that further. Our model structure will be:\n",
        "\n",
        "* Spacy\n",
        "  * Forwards\n",
        "  * Backwards\n",
        "* SentencePiece\n",
        "  * Forwards\n",
        "  * Backwards\n",
        "  \n",
        "Let's do it in two phase, as we need some special care for sentencepiece"
      ]
    },
    {
      "cell_type": "code",
      "metadata": {
        "id": "bh2gdu0uib6w",
        "colab_type": "code",
        "colab": {}
      },
      "source": [
        "from fastai.text import *"
      ],
      "execution_count": 0,
      "outputs": []
    },
    {
      "cell_type": "code",
      "metadata": {
        "id": "sAO7WPZ_iu8Q",
        "colab_type": "code",
        "colab": {}
      },
      "source": [
        "path = untar_data(URLs.IMDB_SAMPLE)\n",
        "df = pd.read_csv(path/'texts.csv')"
      ],
      "execution_count": 0,
      "outputs": []
    },
    {
      "cell_type": "markdown",
      "metadata": {
        "id": "HV-fkHtNSujS",
        "colab_type": "text"
      },
      "source": [
        "# Spacy\n",
        "\n",
        "This first part is the exact same as from 05b"
      ]
    },
    {
      "cell_type": "code",
      "metadata": {
        "id": "VkwVUu2xSzxJ",
        "colab_type": "code",
        "colab": {}
      },
      "source": [
        "data_lm_spa_fwd = TextLMDataBunch.from_csv(path, 'texts.csv', text_cols='text', backwards=False, bs=16)\n",
        "data_lm_spa_bwd = TextLMDataBunch.from_csv(path, 'texts.csv', text_cols='text', backwards=True, bs=16)"
      ],
      "execution_count": 0,
      "outputs": []
    },
    {
      "cell_type": "code",
      "metadata": {
        "id": "OyPiVdPlTBOV",
        "colab_type": "code",
        "outputId": "b0e68ffb-aaaa-4178-d746-44bf3868840d",
        "colab": {
          "base_uri": "https://localhost:8080/",
          "height": 323
        }
      },
      "source": [
        "data_lm_spa_fwd.show_batch()"
      ],
      "execution_count": 0,
      "outputs": [
        {
          "output_type": "display_data",
          "data": {
            "text/html": [
              "<table border=\"1\" class=\"dataframe\">\n",
              "  <thead>\n",
              "    <tr style=\"text-align: right;\">\n",
              "      <th>idx</th>\n",
              "      <th>text</th>\n",
              "    </tr>\n",
              "  </thead>\n",
              "  <tbody>\n",
              "    <tr>\n",
              "      <td>0</td>\n",
              "      <td>at all .. seems like the props where taken from some bad western series of some kind ( for kids ) and they just did whatever they could with it . \\n \\n  xxmaj what audience is this movie for ? i can only think of 12 - 14 year olds . xxmaj if you 're older than 14 you 'll have serious problems with this movie . xxmaj</td>\n",
              "    </tr>\n",
              "    <tr>\n",
              "      <td>1</td>\n",
              "      <td>an insult to the brain and hence completely unbelievable is that a group of 7 soldiers can kill of so many rebels without being hurt or killed themselves . xxmaj only near the end they loose a few comrades . xxmaj and that is only because they have to fight of an army of nearly 500 or more . xxmaj can you believe that ? \\n \\n  xxmaj they</td>\n",
              "    </tr>\n",
              "    <tr>\n",
              "      <td>2</td>\n",
              "      <td>to re - up for another 6 years . xxmaj her take on her time spent in the xxunk is that she did some good . xxmaj local xxmaj xxunk children got first rate medical treatment for various common xxunk not ordinarily able to afford free with an xxunk and xxunk . xxmaj her look over her shoulder at her xxmaj iraq tour was . \" xxmaj we changed some</td>\n",
              "    </tr>\n",
              "    <tr>\n",
              "      <td>3</td>\n",
              "      <td>that was xxmaj survive xxmaj style 5 + , a film that actually has meaning , combined with excellent use of scenery , cinematography , catchy dialog , funny moments , good soundtrack , excellent performances , fantastic pacing and flow . xxup fffc features the exact opposite in every way , boring scenery ( 20 minutes staring at a bland beach at night ? a completely white stage ?</td>\n",
              "    </tr>\n",
              "    <tr>\n",
              "      <td>4</td>\n",
              "      <td>xxmaj there was nothing in the bulk of the film that you could look back to and think \" xxmaj xxunk was n't that clever \" because it was n't . xxmaj in \" xxmaj fight xxmaj club \" there are flashbacks at the end showing bits where xxmaj tyler 's true identity was xxunk shown , and when you watched it again you saw more , it really was</td>\n",
              "    </tr>\n",
              "  </tbody>\n",
              "</table>"
            ],
            "text/plain": [
              "<IPython.core.display.HTML object>"
            ]
          },
          "metadata": {
            "tags": []
          }
        }
      ]
    },
    {
      "cell_type": "code",
      "metadata": {
        "id": "m5NK60c3TDRt",
        "colab_type": "code",
        "outputId": "6b3a3bbc-0387-4d2a-8634-7735faa2a4ad",
        "colab": {
          "base_uri": "https://localhost:8080/",
          "height": 340
        }
      },
      "source": [
        "data_lm_spa_bwd.show_batch()"
      ],
      "execution_count": 0,
      "outputs": [
        {
          "output_type": "display_data",
          "data": {
            "text/html": [
              "<table border=\"1\" class=\"dataframe\">\n",
              "  <thead>\n",
              "    <tr style=\"text-align: right;\">\n",
              "      <th>idx</th>\n",
              "      <th>text</th>\n",
              "    </tr>\n",
              "  </thead>\n",
              "  <tbody>\n",
              "    <tr>\n",
              "      <td>0</td>\n",
              "      <td>\" getting recall n't do i but xxmaj . relationships and xxunk into steps xxunk first their through stumbling characters youthful are these , yes xxmaj . really not , well xxmaj . \" friends xxmaj \" and movie this between comparison a read i think i site this on somewhere xxmaj . change a for guys gay two the be to happen n't does just it xxmaj . movie</td>\n",
              "    </tr>\n",
              "    <tr>\n",
              "      <td>1</td>\n",
              "      <td>have might it comedy more and plot a of more least at or line story different a had it if xxmaj . wall the up me drove just movie this but spencer xxmaj xxunk xxmaj like i and movies hill xxmaj xxunk xxmaj like i . movie the into minutes 5 off it turn to me drives still it and times of number them through sat have i . them</td>\n",
              "    </tr>\n",
              "    <tr>\n",
              "      <td>2</td>\n",
              "      <td> go a film this give to had just i , reviews bad pretty despite xxmaj xxbos . photographer ugly and fat the , character main - \" ! you have i ! ugly 're you xxmaj ! fat 're you xxmaj ! you hate i ! you hate i \" ] mirror the in herself at looking while [ \\n \\n  . enlightenment of school own her of</td>\n",
              "    </tr>\n",
              "    <tr>\n",
              "      <td>3</td>\n",
              "      <td>but , xxunk he people the than questioning his of most to better much xxunk 've could i that feeling the get i . these of none almost on touches he xxmaj . themselves of ask should they many and folks religious of ask honestly to questions good are there , record the for xxmaj \\n \\n  . questions his answer really to allow n't does he that groups</td>\n",
              "    </tr>\n",
              "    <tr>\n",
              "      <td>4</td>\n",
              "      <td>possesses humanity that belief his xxmaj . for stood author the that everything against goes sequences action 's it all with itself plot the xxmaj . stories his of xxunk a was that intelligence critical the possess not do , characters 's asimov xxmaj of many after named are which , characters the xxmaj . yourself for them discover and skills thinking you practice to need you xxmaj . you</td>\n",
              "    </tr>\n",
              "  </tbody>\n",
              "</table>"
            ],
            "text/plain": [
              "<IPython.core.display.HTML object>"
            ]
          },
          "metadata": {
            "tags": []
          }
        }
      ]
    },
    {
      "cell_type": "code",
      "metadata": {
        "id": "P4VCe6-MTJda",
        "colab_type": "code",
        "colab": {}
      },
      "source": [
        "fwd = language_model_learner(data_lm_spa_fwd, AWD_LSTM, drop_mult=0.3).to_fp16()\n",
        "bwd = language_model_learner(data_lm_spa_bwd, AWD_LSTM, drop_mult=0.3).to_fp16()"
      ],
      "execution_count": 0,
      "outputs": []
    },
    {
      "cell_type": "code",
      "metadata": {
        "id": "ggKh9WLvTg4t",
        "colab_type": "code",
        "colab": {}
      },
      "source": [
        "models = [fwd, bwd]"
      ],
      "execution_count": 0,
      "outputs": []
    },
    {
      "cell_type": "code",
      "metadata": {
        "id": "2xQoO11_TkB4",
        "colab_type": "code",
        "colab": {}
      },
      "source": [
        "def train_models(models:list):\n",
        "  bs = models[0].data.batch_size\n",
        "  names = ['spa_forward', 'spa_backward']\n",
        "  x = 0\n",
        "  for model in models:\n",
        "    lr = 1e-2\n",
        "    lr *= bs/48\n",
        "    model.fit_one_cycle(1, lr, moms=(0.8, 0.7))\n",
        "    model.unfreeze()\n",
        "    model.fit_one_cycle(1, lr/10, moms=(0.8, 0.7))\n",
        "    model.save(f'{names[x]}_fine_tuned_10')\n",
        "    model.save_encoder(f'{names[x]}_fine_tuned_enc_10')\n",
        "    x += 1"
      ],
      "execution_count": 0,
      "outputs": []
    },
    {
      "cell_type": "code",
      "metadata": {
        "id": "RA7LQhc8TuBQ",
        "colab_type": "code",
        "outputId": "4f4f98bc-4ed2-4feb-c8f6-70d30647106e",
        "colab": {
          "base_uri": "https://localhost:8080/",
          "height": 269
        }
      },
      "source": [
        "train_models(models)"
      ],
      "execution_count": 0,
      "outputs": [
        {
          "output_type": "display_data",
          "data": {
            "text/html": [
              "<table border=\"1\" class=\"dataframe\">\n",
              "  <thead>\n",
              "    <tr style=\"text-align: left;\">\n",
              "      <th>epoch</th>\n",
              "      <th>train_loss</th>\n",
              "      <th>valid_loss</th>\n",
              "      <th>accuracy</th>\n",
              "      <th>time</th>\n",
              "    </tr>\n",
              "  </thead>\n",
              "  <tbody>\n",
              "    <tr>\n",
              "      <td>0</td>\n",
              "      <td>4.220868</td>\n",
              "      <td>3.851373</td>\n",
              "      <td>0.290625</td>\n",
              "      <td>00:09</td>\n",
              "    </tr>\n",
              "  </tbody>\n",
              "</table>"
            ],
            "text/plain": [
              "<IPython.core.display.HTML object>"
            ]
          },
          "metadata": {
            "tags": []
          }
        },
        {
          "output_type": "display_data",
          "data": {
            "text/html": [
              "<table border=\"1\" class=\"dataframe\">\n",
              "  <thead>\n",
              "    <tr style=\"text-align: left;\">\n",
              "      <th>epoch</th>\n",
              "      <th>train_loss</th>\n",
              "      <th>valid_loss</th>\n",
              "      <th>accuracy</th>\n",
              "      <th>time</th>\n",
              "    </tr>\n",
              "  </thead>\n",
              "  <tbody>\n",
              "    <tr>\n",
              "      <td>0</td>\n",
              "      <td>3.901305</td>\n",
              "      <td>3.789649</td>\n",
              "      <td>0.300077</td>\n",
              "      <td>00:12</td>\n",
              "    </tr>\n",
              "  </tbody>\n",
              "</table>"
            ],
            "text/plain": [
              "<IPython.core.display.HTML object>"
            ]
          },
          "metadata": {
            "tags": []
          }
        },
        {
          "output_type": "display_data",
          "data": {
            "text/html": [
              "<table border=\"1\" class=\"dataframe\">\n",
              "  <thead>\n",
              "    <tr style=\"text-align: left;\">\n",
              "      <th>epoch</th>\n",
              "      <th>train_loss</th>\n",
              "      <th>valid_loss</th>\n",
              "      <th>accuracy</th>\n",
              "      <th>time</th>\n",
              "    </tr>\n",
              "  </thead>\n",
              "  <tbody>\n",
              "    <tr>\n",
              "      <td>0</td>\n",
              "      <td>4.245296</td>\n",
              "      <td>3.881888</td>\n",
              "      <td>0.320799</td>\n",
              "      <td>00:09</td>\n",
              "    </tr>\n",
              "  </tbody>\n",
              "</table>"
            ],
            "text/plain": [
              "<IPython.core.display.HTML object>"
            ]
          },
          "metadata": {
            "tags": []
          }
        },
        {
          "output_type": "display_data",
          "data": {
            "text/html": [
              "<table border=\"1\" class=\"dataframe\">\n",
              "  <thead>\n",
              "    <tr style=\"text-align: left;\">\n",
              "      <th>epoch</th>\n",
              "      <th>train_loss</th>\n",
              "      <th>valid_loss</th>\n",
              "      <th>accuracy</th>\n",
              "      <th>time</th>\n",
              "    </tr>\n",
              "  </thead>\n",
              "  <tbody>\n",
              "    <tr>\n",
              "      <td>0</td>\n",
              "      <td>3.901468</td>\n",
              "      <td>3.807374</td>\n",
              "      <td>0.328264</td>\n",
              "      <td>00:12</td>\n",
              "    </tr>\n",
              "  </tbody>\n",
              "</table>"
            ],
            "text/plain": [
              "<IPython.core.display.HTML object>"
            ]
          },
          "metadata": {
            "tags": []
          }
        }
      ]
    },
    {
      "cell_type": "markdown",
      "metadata": {
        "id": "SATFmOI-UG87",
        "colab_type": "text"
      },
      "source": [
        "Note: we are only training for two epochs due to overfitting"
      ]
    },
    {
      "cell_type": "code",
      "metadata": {
        "id": "WjeYfRdaUeB0",
        "colab_type": "code",
        "colab": {}
      },
      "source": [
        "df = pd.read_csv(path/'texts.csv')"
      ],
      "execution_count": 0,
      "outputs": []
    },
    {
      "cell_type": "code",
      "metadata": {
        "id": "xlLJfQxpUyKt",
        "colab_type": "code",
        "colab": {}
      },
      "source": [
        "train_df = df.iloc[:800]\n",
        "valid_df = df.iloc[800:]"
      ],
      "execution_count": 0,
      "outputs": []
    },
    {
      "cell_type": "code",
      "metadata": {
        "id": "7GhENmRpUM6M",
        "colab_type": "code",
        "colab": {}
      },
      "source": [
        "data_cls_spa_fwd = TextClasDataBunch.from_df(train_df=train_df, valid_df=valid_df, path=path, \n",
        "                                             vocab=data_lm_spa_fwd.vocab, backwards=False, bs=16)\n",
        "\n",
        "data_cls_spa_bwd = TextClasDataBunch.from_df(train_df=train_df, valid_df=valid_df, path=path, \n",
        "                                             vocab=data_lm_spa_bwd.vocab, backwards=True, bs=16)"
      ],
      "execution_count": 0,
      "outputs": []
    },
    {
      "cell_type": "code",
      "metadata": {
        "id": "TIb4KZHDVP1d",
        "colab_type": "code",
        "colab": {}
      },
      "source": [
        "learn_cls_spa_fwd = text_classifier_learner(data_cls_spa_fwd, AWD_LSTM, drop_mult=0.5).to_fp16()\n",
        "learn_cls_spa_bwd = text_classifier_learner(data_cls_spa_bwd, AWD_LSTM, drop_mult=0.5).to_fp16()"
      ],
      "execution_count": 0,
      "outputs": []
    },
    {
      "cell_type": "code",
      "metadata": {
        "id": "VnVSbOCpVZau",
        "colab_type": "code",
        "colab": {}
      },
      "source": [
        "learn_cls_spa_fwd.load_encoder('spa_forward_fine_tuned_enc_10')\n",
        "learn_cls_spa_bwd.load_encoder('spa_backward_fine_tuned_enc_10')\n",
        "learn_cls_spa_fwd.freeze()\n",
        "learn_cls_spa_bwd.freeze()"
      ],
      "execution_count": 0,
      "outputs": []
    },
    {
      "cell_type": "code",
      "metadata": {
        "id": "qtn93X1_VlHw",
        "colab_type": "code",
        "colab": {}
      },
      "source": [
        "def train_models(fwd:Learner, bwd:Learner):\n",
        "  models = [fwd, bwd]\n",
        "  bs = fwd.data.batch_size\n",
        "  names = ['forward', 'backward']\n",
        "  x = 0\n",
        "  for model in models:\n",
        "    lr = 1e-2\n",
        "    lr *= bs/48\n",
        "    model.fit_one_cycle(1, lr, moms=(0.8, 0.7))\n",
        "    \n",
        "    model.freeze_to(-2)\n",
        "    model.fit_one_cycle(1, slice(lr/(2.6**4),lr), moms=(0.8,0.7))\n",
        "    \n",
        "    model.freeze_to(-3)\n",
        "    model.fit_one_cycle(1, slice(lr/2/(2.6**4),lr/2), moms=(0.8,0.7))\n",
        "    \n",
        "    model.unfreeze()\n",
        "    model.fit_one_cycle(2, slice(lr/10/(2.6**4),lr/10), moms=(0.8,0.7))\n",
        "  return fwd, bwd"
      ],
      "execution_count": 0,
      "outputs": []
    },
    {
      "cell_type": "code",
      "metadata": {
        "id": "FyGKkGPGVmel",
        "colab_type": "code",
        "outputId": "dbc27447-4a90-4e82-a4ad-37e937bd5dd4",
        "colab": {
          "base_uri": "https://localhost:8080/",
          "height": 583
        }
      },
      "source": [
        "learn_cls_spa_fwd, learn_cls_spa_bwd = train_models(learn_cls_spa_fwd, learn_cls_spa_bwd)"
      ],
      "execution_count": 0,
      "outputs": [
        {
          "output_type": "display_data",
          "data": {
            "text/html": [
              "<table border=\"1\" class=\"dataframe\">\n",
              "  <thead>\n",
              "    <tr style=\"text-align: left;\">\n",
              "      <th>epoch</th>\n",
              "      <th>train_loss</th>\n",
              "      <th>valid_loss</th>\n",
              "      <th>accuracy</th>\n",
              "      <th>time</th>\n",
              "    </tr>\n",
              "  </thead>\n",
              "  <tbody>\n",
              "    <tr>\n",
              "      <td>0</td>\n",
              "      <td>0.524549</td>\n",
              "      <td>0.529380</td>\n",
              "      <td>0.705000</td>\n",
              "      <td>00:05</td>\n",
              "    </tr>\n",
              "  </tbody>\n",
              "</table>"
            ],
            "text/plain": [
              "<IPython.core.display.HTML object>"
            ]
          },
          "metadata": {
            "tags": []
          }
        },
        {
          "output_type": "display_data",
          "data": {
            "text/html": [
              "<table border=\"1\" class=\"dataframe\">\n",
              "  <thead>\n",
              "    <tr style=\"text-align: left;\">\n",
              "      <th>epoch</th>\n",
              "      <th>train_loss</th>\n",
              "      <th>valid_loss</th>\n",
              "      <th>accuracy</th>\n",
              "      <th>time</th>\n",
              "    </tr>\n",
              "  </thead>\n",
              "  <tbody>\n",
              "    <tr>\n",
              "      <td>0</td>\n",
              "      <td>0.449530</td>\n",
              "      <td>0.423241</td>\n",
              "      <td>0.810000</td>\n",
              "      <td>00:06</td>\n",
              "    </tr>\n",
              "  </tbody>\n",
              "</table>"
            ],
            "text/plain": [
              "<IPython.core.display.HTML object>"
            ]
          },
          "metadata": {
            "tags": []
          }
        },
        {
          "output_type": "display_data",
          "data": {
            "text/html": [
              "<table border=\"1\" class=\"dataframe\">\n",
              "  <thead>\n",
              "    <tr style=\"text-align: left;\">\n",
              "      <th>epoch</th>\n",
              "      <th>train_loss</th>\n",
              "      <th>valid_loss</th>\n",
              "      <th>accuracy</th>\n",
              "      <th>time</th>\n",
              "    </tr>\n",
              "  </thead>\n",
              "  <tbody>\n",
              "    <tr>\n",
              "      <td>0</td>\n",
              "      <td>0.378100</td>\n",
              "      <td>0.407294</td>\n",
              "      <td>0.830000</td>\n",
              "      <td>00:08</td>\n",
              "    </tr>\n",
              "  </tbody>\n",
              "</table>"
            ],
            "text/plain": [
              "<IPython.core.display.HTML object>"
            ]
          },
          "metadata": {
            "tags": []
          }
        },
        {
          "output_type": "display_data",
          "data": {
            "text/html": [
              "<table border=\"1\" class=\"dataframe\">\n",
              "  <thead>\n",
              "    <tr style=\"text-align: left;\">\n",
              "      <th>epoch</th>\n",
              "      <th>train_loss</th>\n",
              "      <th>valid_loss</th>\n",
              "      <th>accuracy</th>\n",
              "      <th>time</th>\n",
              "    </tr>\n",
              "  </thead>\n",
              "  <tbody>\n",
              "    <tr>\n",
              "      <td>0</td>\n",
              "      <td>0.302416</td>\n",
              "      <td>0.372678</td>\n",
              "      <td>0.825000</td>\n",
              "      <td>00:10</td>\n",
              "    </tr>\n",
              "    <tr>\n",
              "      <td>1</td>\n",
              "      <td>0.273694</td>\n",
              "      <td>0.375296</td>\n",
              "      <td>0.835000</td>\n",
              "      <td>00:10</td>\n",
              "    </tr>\n",
              "  </tbody>\n",
              "</table>"
            ],
            "text/plain": [
              "<IPython.core.display.HTML object>"
            ]
          },
          "metadata": {
            "tags": []
          }
        },
        {
          "output_type": "display_data",
          "data": {
            "text/html": [
              "<table border=\"1\" class=\"dataframe\">\n",
              "  <thead>\n",
              "    <tr style=\"text-align: left;\">\n",
              "      <th>epoch</th>\n",
              "      <th>train_loss</th>\n",
              "      <th>valid_loss</th>\n",
              "      <th>accuracy</th>\n",
              "      <th>time</th>\n",
              "    </tr>\n",
              "  </thead>\n",
              "  <tbody>\n",
              "    <tr>\n",
              "      <td>0</td>\n",
              "      <td>0.592681</td>\n",
              "      <td>0.560117</td>\n",
              "      <td>0.715000</td>\n",
              "      <td>00:05</td>\n",
              "    </tr>\n",
              "  </tbody>\n",
              "</table>"
            ],
            "text/plain": [
              "<IPython.core.display.HTML object>"
            ]
          },
          "metadata": {
            "tags": []
          }
        },
        {
          "output_type": "display_data",
          "data": {
            "text/html": [
              "<table border=\"1\" class=\"dataframe\">\n",
              "  <thead>\n",
              "    <tr style=\"text-align: left;\">\n",
              "      <th>epoch</th>\n",
              "      <th>train_loss</th>\n",
              "      <th>valid_loss</th>\n",
              "      <th>accuracy</th>\n",
              "      <th>time</th>\n",
              "    </tr>\n",
              "  </thead>\n",
              "  <tbody>\n",
              "    <tr>\n",
              "      <td>0</td>\n",
              "      <td>0.530375</td>\n",
              "      <td>0.538316</td>\n",
              "      <td>0.730000</td>\n",
              "      <td>00:06</td>\n",
              "    </tr>\n",
              "  </tbody>\n",
              "</table>"
            ],
            "text/plain": [
              "<IPython.core.display.HTML object>"
            ]
          },
          "metadata": {
            "tags": []
          }
        },
        {
          "output_type": "display_data",
          "data": {
            "text/html": [
              "<table border=\"1\" class=\"dataframe\">\n",
              "  <thead>\n",
              "    <tr style=\"text-align: left;\">\n",
              "      <th>epoch</th>\n",
              "      <th>train_loss</th>\n",
              "      <th>valid_loss</th>\n",
              "      <th>accuracy</th>\n",
              "      <th>time</th>\n",
              "    </tr>\n",
              "  </thead>\n",
              "  <tbody>\n",
              "    <tr>\n",
              "      <td>0</td>\n",
              "      <td>0.423208</td>\n",
              "      <td>0.527028</td>\n",
              "      <td>0.750000</td>\n",
              "      <td>00:08</td>\n",
              "    </tr>\n",
              "  </tbody>\n",
              "</table>"
            ],
            "text/plain": [
              "<IPython.core.display.HTML object>"
            ]
          },
          "metadata": {
            "tags": []
          }
        },
        {
          "output_type": "display_data",
          "data": {
            "text/html": [
              "<table border=\"1\" class=\"dataframe\">\n",
              "  <thead>\n",
              "    <tr style=\"text-align: left;\">\n",
              "      <th>epoch</th>\n",
              "      <th>train_loss</th>\n",
              "      <th>valid_loss</th>\n",
              "      <th>accuracy</th>\n",
              "      <th>time</th>\n",
              "    </tr>\n",
              "  </thead>\n",
              "  <tbody>\n",
              "    <tr>\n",
              "      <td>0</td>\n",
              "      <td>0.369098</td>\n",
              "      <td>0.518303</td>\n",
              "      <td>0.755000</td>\n",
              "      <td>00:11</td>\n",
              "    </tr>\n",
              "    <tr>\n",
              "      <td>1</td>\n",
              "      <td>0.342984</td>\n",
              "      <td>0.516153</td>\n",
              "      <td>0.770000</td>\n",
              "      <td>00:11</td>\n",
              "    </tr>\n",
              "  </tbody>\n",
              "</table>"
            ],
            "text/plain": [
              "<IPython.core.display.HTML object>"
            ]
          },
          "metadata": {
            "tags": []
          }
        }
      ]
    },
    {
      "cell_type": "code",
      "metadata": {
        "id": "fLJI-CDKWFEO",
        "colab_type": "code",
        "colab": {}
      },
      "source": [
        "learn_cls_spa_fwd.save('cls_spa_fwd')\n",
        "learn_cls_spa_bwd.save('cls_spa_bwd')"
      ],
      "execution_count": 0,
      "outputs": []
    },
    {
      "cell_type": "markdown",
      "metadata": {
        "id": "mh5IJMGNWCfX",
        "colab_type": "text"
      },
      "source": [
        "Alright! Those two are done. Onto SentencePiece"
      ]
    },
    {
      "cell_type": "markdown",
      "metadata": {
        "id": "Rh7RTydeSvuI",
        "colab_type": "text"
      },
      "source": [
        "# SentencePiece"
      ]
    },
    {
      "cell_type": "code",
      "metadata": {
        "id": "cY4L-DPF_5mF",
        "colab_type": "code",
        "outputId": "2a4f893f-2dd2-462c-ea3b-1b7a59875eaa",
        "colab": {
          "base_uri": "https://localhost:8080/",
          "height": 34
        }
      },
      "source": [
        "#we need to install sentencepiece\n",
        "!pip install sentencepiece"
      ],
      "execution_count": 0,
      "outputs": [
        {
          "output_type": "stream",
          "text": [
            "Requirement already satisfied: sentencepiece in /usr/local/lib/python3.6/dist-packages (0.1.83)\n"
          ],
          "name": "stdout"
        }
      ]
    },
    {
      "cell_type": "markdown",
      "metadata": {
        "id": "0CK7WuP5qP7e",
        "colab_type": "text"
      },
      "source": [
        "The library's sentence piece processor is still a little bit glitchy, for now we will do the following to help us out"
      ]
    },
    {
      "cell_type": "code",
      "metadata": {
        "id": "p_T2ImttWSZy",
        "colab_type": "code",
        "colab": {}
      },
      "source": [
        "df_split = pd.DataFrame(df['text'])"
      ],
      "execution_count": 0,
      "outputs": []
    },
    {
      "cell_type": "code",
      "metadata": {
        "id": "Zp6LPc4fWV0E",
        "colab_type": "code",
        "colab": {}
      },
      "source": [
        "df_split.to_csv('split.csv', index=False)\n",
        "\n",
        "source_file = 'split.csv'\n",
        "tmp_file = 'tmp.csv'\n",
        "targ_file = 'data.csv'"
      ],
      "execution_count": 0,
      "outputs": []
    },
    {
      "cell_type": "code",
      "metadata": {
        "id": "ZCUUpwuvWe9Q",
        "colab_type": "code",
        "colab": {}
      },
      "source": [
        "string = ''\n",
        "\n",
        "with open(source_file) as file:\n",
        "  for line in file:\n",
        "    for l in re.split(r\"(?<!\\w\\.\\w.)(?<![A-Z][a-z]\\.)(?<=\\.|\\?)\\s\",line):\n",
        "      string += l\n",
        "      string += '\\n'\n",
        "\n",
        "f = open(tmp_file,'w')\n",
        "f.write(string)\n",
        "f.close()"
      ],
      "execution_count": 0,
      "outputs": []
    },
    {
      "cell_type": "code",
      "metadata": {
        "id": "PXzELcZNWgQa",
        "colab_type": "code",
        "colab": {}
      },
      "source": [
        "df_split = pd.read_csv(tmp_file, delimiter=\"\\n\", header = None, names = ['text'])"
      ],
      "execution_count": 0,
      "outputs": []
    },
    {
      "cell_type": "code",
      "metadata": {
        "id": "KaBVHSbrXuHa",
        "colab_type": "code",
        "colab": {}
      },
      "source": [
        "df_split = df_split.iloc[2:]"
      ],
      "execution_count": 0,
      "outputs": []
    },
    {
      "cell_type": "code",
      "metadata": {
        "id": "erEbmBkgXv7E",
        "colab_type": "code",
        "colab": {}
      },
      "source": [
        "df_split.to_csv('lm_corpus.csv', index=False)"
      ],
      "execution_count": 0,
      "outputs": []
    },
    {
      "cell_type": "code",
      "metadata": {
        "id": "Y_nNHbX2X2RZ",
        "colab_type": "code",
        "colab": {}
      },
      "source": [
        "!bash -c 'cp /content/lm_corpus.csv /root/fastai/texts/joint_lm_corpus.csv'"
      ],
      "execution_count": 0,
      "outputs": []
    },
    {
      "cell_type": "code",
      "metadata": {
        "id": "KxEfMCUn_9SM",
        "colab_type": "code",
        "colab": {}
      },
      "source": [
        "path = Path(\"/root/fastai/texts/\")\n",
        "\n",
        "bs = 48\n",
        "processor = SPProcessor(lang='en')\n",
        "# processor = SPProcessor()\n",
        "\n",
        "data_lm_spp_fwd = (TextList.from_csv(path, 'joint_lm_corpus.csv', processor=processor)\n",
        "            .split_by_rand_pct(0.1)\n",
        "            .label_for_lm()           \n",
        "            .databunch(bs=bs, backwards=False))\n",
        "\n",
        "data_lm_spp_bwd = (TextList.from_csv(path, 'joint_lm_corpus.csv', processor=processor)\n",
        "            .split_by_rand_pct(0.1)\n",
        "            .label_for_lm()           \n",
        "            .databunch(bs=bs, backwards=True))"
      ],
      "execution_count": 0,
      "outputs": []
    },
    {
      "cell_type": "code",
      "metadata": {
        "id": "rRZLpe3qAXJ5",
        "colab_type": "code",
        "outputId": "2cb7f3fb-690c-49f3-de2f-77de715c2fa7",
        "colab": {
          "base_uri": "https://localhost:8080/",
          "height": 374
        }
      },
      "source": [
        "data_lm_spp_fwd.show_batch()"
      ],
      "execution_count": 0,
      "outputs": [
        {
          "output_type": "display_data",
          "data": {
            "text/html": [
              "<table border=\"1\" class=\"dataframe\">\n",
              "  <thead>\n",
              "    <tr style=\"text-align: right;\">\n",
              "      <th>idx</th>\n",
              "      <th>text</th>\n",
              "    </tr>\n",
              "  </thead>\n",
              "  <tbody>\n",
              "    <tr>\n",
              "      <td>0</td>\n",
              "      <td>▁kind ▁of ▁suicide ▁trip ▁has ▁his ▁career ▁been ▁on ? ▁xxmaj ▁who o sh ... ▁xxmaj ▁ ban z a i !!! ▁xxmaj ▁finally ▁this ▁was ▁directed ▁by ▁the ▁guy ▁who ▁did ▁xxmaj ▁big ▁xxmaj ▁chil l ? ▁xxmaj ▁must ▁be ▁a ▁re play ▁of ▁xxmaj ▁jonestown ▁- ▁hollywood ▁style . ▁xxmaj ▁wo o off f ! ▁xxbos ▁xxmaj ▁this ▁is ▁a ▁extremely ▁well - made ▁film . ▁xxmaj ▁the</td>\n",
              "    </tr>\n",
              "    <tr>\n",
              "      <td>1</td>\n",
              "      <td>▁xxmaj ▁still , ▁a ▁fun ▁time ▁had ▁by ▁all ▁( even ▁for ▁xxmaj ▁fu ku s hi ma !) . ▁xxbos ▁xxmaj ▁this ▁movie ▁was ▁a ▁stupid ▁piece ▁of ▁crap . ▁xxmaj ▁bad ▁everything . ▁xxmaj ▁why ▁is ▁it ▁that ▁we ▁who ▁love ▁western ▁movies ▁get ▁j il ted ▁nine ▁out ▁of ▁ten ▁times ▁when ▁renting ▁western s . ▁xxmaj ▁it ▁seems ▁that ▁if ▁you ▁don ' t ▁see ▁names</td>\n",
              "    </tr>\n",
              "    <tr>\n",
              "      <td>2</td>\n",
              "      <td>▁but ▁ultimately ▁were ▁failure s ▁in ▁positive ly ▁sway ing ▁public ▁opinion . ▁xxmaj ▁so , ▁from ▁a ▁historical ▁point ▁of ▁view , ▁it ' s ▁an ▁amazing ▁and ▁sad ▁re lic ▁that ▁is ▁well ▁worth ▁seeing . ▁xxbos ▁i ▁caught ▁this ▁on ▁the ▁dis h ▁last ▁night . ▁i ▁liked ▁the ▁movie . ▁i ▁travel ed ▁to ▁xxmaj ▁russia ▁3 ▁different ▁times ▁( ad op ting ▁our ▁2 ▁kids</td>\n",
              "    </tr>\n",
              "    <tr>\n",
              "      <td>3</td>\n",
              "      <td>' . ▁xxmaj ▁the ▁plot ▁actually ▁gives ▁the ▁film ▁a ▁decent ▁base ▁- ▁or ▁at ▁least ▁more ▁of ▁a ▁decent ▁base ▁than ▁most ▁cannibal ▁films ▁- ▁and ▁it ▁follows ▁an ▁actress ▁who ▁is ▁kidnappe d ▁and ▁dragg ed ▁off ▁into ▁the ▁xxmaj ▁amazon ▁ jungle . ▁a ▁hunter ▁is ▁then ▁hired ▁to ▁find ▁her , ▁but ▁along ▁the ▁way ▁he ▁has ▁to ▁bra ve ▁the ▁natives , ▁lead ▁by ▁a</td>\n",
              "    </tr>\n",
              "    <tr>\n",
              "      <td>4</td>\n",
              "      <td>▁hunting ▁with ▁poor ▁camera ▁angles ▁ ; - ) ▁xxmaj ▁it ▁will ▁have ▁1 ▁stars ▁because ▁the ▁story ▁is ▁xxup ▁ok . ▁xxmaj ▁it ▁is ▁a ▁pity ▁that ▁xxmaj ▁ ti ▁xxmaj ▁west , ▁has ▁not ▁spent ▁more ▁time ▁to ▁review ▁his ▁story . ▁xxmaj ▁it ▁is ▁as ▁if ▁the ▁movie ▁was ▁more ▁important ▁than ▁the ▁planning . ▁xxmaj ▁because ▁you ▁have ▁a ▁camera ▁does ▁not ▁mean ▁you ▁should ▁make</td>\n",
              "    </tr>\n",
              "  </tbody>\n",
              "</table>"
            ],
            "text/plain": [
              "<IPython.core.display.HTML object>"
            ]
          },
          "metadata": {
            "tags": []
          }
        }
      ]
    },
    {
      "cell_type": "code",
      "metadata": {
        "id": "cxQB5ji7YQTa",
        "colab_type": "code",
        "outputId": "d585e3ff-2fb7-4e26-8292-462a2dc2cd42",
        "colab": {
          "base_uri": "https://localhost:8080/",
          "height": 357
        }
      },
      "source": [
        "data_lm_spp_bwd.show_batch()"
      ],
      "execution_count": 0,
      "outputs": [
        {
          "output_type": "display_data",
          "data": {
            "text/html": [
              "<table border=\"1\" class=\"dataframe\">\n",
              "  <thead>\n",
              "    <tr style=\"text-align: right;\">\n",
              "      <th>idx</th>\n",
              "      <th>text</th>\n",
              "    </tr>\n",
              "  </thead>\n",
              "  <tbody>\n",
              "    <tr>\n",
              "      <td>0</td>\n",
              "      <td>. ▁it ▁to ▁tone ▁serious ▁a ▁with ▁anime ▁into ▁get ▁to ▁looking ▁anyone ▁and ), ▁so ▁think ▁to ▁reason ▁good ▁have they ▁( ▁stupid ▁is ▁anime ▁all ▁xxup ▁thinks ▁that ▁anyone , ▁anime s ▁like ▁that ▁anyone ▁for ▁great ▁is ▁series ▁this ▁that ▁saying ▁here ▁end ll ' ▁i ▁xxmaj . ▁plot ▁the ▁to al ci ru ▁c ▁is ▁which , ▁information ▁away ▁give ▁to ▁begin ▁would ▁detail ▁more ▁any</td>\n",
              "    </tr>\n",
              "    <tr>\n",
              "      <td>1</td>\n",
              "      <td>g ▁bu ▁xxmaj a ▁\" ▁xxup . ▁made ▁have ▁they ▁movies ▁animated ▁cgi ▁xxup length - ▁full ▁the ▁with ▁years ▁the ▁over ▁success ive ▁mass ▁had ▁has ▁pixar ▁xxmaj ▁xxbos . ▁it ▁liked ▁have ▁would ▁i , ▁better ▁been ▁had ▁acting ▁her ▁if ▁maybe ▁xxmaj . ▁well ▁as ▁disappointing ▁was ▁end ▁the ▁but ▁xxmaj . ▁movie ▁good ▁a ▁of s ▁making ▁the ▁has ▁script ▁the ▁of ▁part ▁first ▁the ▁xxmaj</td>\n",
              "    </tr>\n",
              "    <tr>\n",
              "      <td>2</td>\n",
              "      <td>▁to ▁close ▁stay ▁to ▁tried ▁even ▁never ▁movie ▁the ▁where ▁case ▁a ▁about ▁what ▁but ▁xxmaj .\" ▁made ▁be ▁changes ▁that ▁require ▁sometimes ▁movies , ▁medium ▁the ▁to ▁due ▁xxmaj . ▁book ▁the ▁like ▁be ▁to ▁have t ' n ▁does ▁movie the ▁\" : ▁state ▁will ▁who ) ing think ▁un . e . i ▁( ▁uncritical ▁those ▁be ▁always ▁will ▁there ▁xxmaj . ▁movie ▁this ▁about ▁anything ▁in</td>\n",
              "    </tr>\n",
              "    <tr>\n",
              "      <td>3</td>\n",
              "      <td>. politics ▁ ▁not , ▁movies ▁talk ▁to ▁here re ' ▁we ▁xxmaj . ▁point ▁the side ▁be s ' ▁that ▁but ▁xxmaj . ole am ac ▁gu ▁to ▁up ed ▁add \" facts ▁\" s ' ▁clinton ▁xxmaj ▁of ▁most , ▁truth ▁in ▁when ▁xxmaj . ▁x ▁xxup ▁conclusion ▁to ▁up ▁add ▁must ▁they ▁that duce ▁de er ▁listen ▁the ▁let ▁and , d ▁ ▁xxup ▁maybe ▁and ,</td>\n",
              "    </tr>\n",
              "    <tr>\n",
              "      <td>4</td>\n",
              "      <td>s ' ▁it , en mel ▁him ▁i m ▁so &lt;unk&gt; s ▁ ▁xxmaj ▁see ▁go ▁xxmaj . s ▁creator ▁movie ▁outstanding ▁are ▁swedish ▁xxmaj ▁the ▁that ▁us ▁shows pollack ▁ ▁xxmaj ▁kay ▁xxmaj . ▁then ▁till ▁been ▁has ▁life ▁his ▁way ▁the ▁with ▁and ▁past ▁the ▁with ▁peace ▁make ▁to ▁trying ▁while , ▁born ▁was ▁he ▁where ▁village ▁the ▁in ▁existence ▁calm ▁a ▁create ▁to ▁tries ▁who ▁and ,</td>\n",
              "    </tr>\n",
              "  </tbody>\n",
              "</table>"
            ],
            "text/plain": [
              "<IPython.core.display.HTML object>"
            ]
          },
          "metadata": {
            "tags": []
          }
        }
      ]
    },
    {
      "cell_type": "code",
      "metadata": {
        "id": "Q4r7DXy1Yd8l",
        "colab_type": "code",
        "colab": {}
      },
      "source": [
        "fwd = language_model_learner(data_lm_spp_fwd, AWD_LSTM, drop_mult=0.3).to_fp16()\n",
        "bwd = language_model_learner(data_lm_spp_bwd, AWD_LSTM, drop_mult=0.3).to_fp16()"
      ],
      "execution_count": 0,
      "outputs": []
    },
    {
      "cell_type": "code",
      "metadata": {
        "id": "UAaA-PzAYgr0",
        "colab_type": "code",
        "colab": {}
      },
      "source": [
        "models = [fwd, bwd]"
      ],
      "execution_count": 0,
      "outputs": []
    },
    {
      "cell_type": "markdown",
      "metadata": {
        "id": "l5Qc9vjXYtEC",
        "colab_type": "text"
      },
      "source": [
        "SentencePiece's language model needs to be trained much longer"
      ]
    },
    {
      "cell_type": "code",
      "metadata": {
        "id": "rO9OkqcDYZWQ",
        "colab_type": "code",
        "colab": {}
      },
      "source": [
        "def train_models(models:list):\n",
        "  bs = models[0].data.batch_size\n",
        "  names = ['spp_forward', 'spp_backward']\n",
        "  x = 0\n",
        "  for model in models:\n",
        "    lr = 1e-2\n",
        "    lr *= bs/48\n",
        "    model.fit_one_cycle(10, lr, moms=(0.8, 0.7))\n",
        "    model.unfreeze()\n",
        "    model.fit_one_cycle(5, lr/10, moms=(0.8, 0.7))\n",
        "    model.save(f'{names[x]}_fine_tuned_10')\n",
        "    model.save_encoder(f'{names[x]}_fine_tuned_enc_10')\n",
        "    x += 1"
      ],
      "execution_count": 0,
      "outputs": []
    },
    {
      "cell_type": "markdown",
      "metadata": {
        "id": "UgsirT9HZeTO",
        "colab_type": "text"
      },
      "source": [
        "Also, unlike our previous model, the SentencePiece models don't quite achieve as high as accuracy as the others do, and 20% looks to be close enough"
      ]
    },
    {
      "cell_type": "code",
      "metadata": {
        "id": "d5we7I1RYZSu",
        "colab_type": "code",
        "outputId": "6b25495e-fba0-4a11-b77d-38ea3038564a",
        "colab": {
          "base_uri": "https://localhost:8080/",
          "height": 1000
        }
      },
      "source": [
        "train_models(models)"
      ],
      "execution_count": 0,
      "outputs": [
        {
          "output_type": "display_data",
          "data": {
            "text/html": [
              "<table border=\"1\" class=\"dataframe\">\n",
              "  <thead>\n",
              "    <tr style=\"text-align: left;\">\n",
              "      <th>epoch</th>\n",
              "      <th>train_loss</th>\n",
              "      <th>valid_loss</th>\n",
              "      <th>accuracy</th>\n",
              "      <th>time</th>\n",
              "    </tr>\n",
              "  </thead>\n",
              "  <tbody>\n",
              "    <tr>\n",
              "      <td>0</td>\n",
              "      <td>7.804316</td>\n",
              "      <td>6.360443</td>\n",
              "      <td>0.068229</td>\n",
              "      <td>00:04</td>\n",
              "    </tr>\n",
              "    <tr>\n",
              "      <td>1</td>\n",
              "      <td>6.428554</td>\n",
              "      <td>5.818271</td>\n",
              "      <td>0.114323</td>\n",
              "      <td>00:04</td>\n",
              "    </tr>\n",
              "    <tr>\n",
              "      <td>2</td>\n",
              "      <td>5.731979</td>\n",
              "      <td>5.327805</td>\n",
              "      <td>0.164993</td>\n",
              "      <td>00:04</td>\n",
              "    </tr>\n",
              "    <tr>\n",
              "      <td>3</td>\n",
              "      <td>5.256244</td>\n",
              "      <td>5.115634</td>\n",
              "      <td>0.179948</td>\n",
              "      <td>00:04</td>\n",
              "    </tr>\n",
              "    <tr>\n",
              "      <td>4</td>\n",
              "      <td>4.917917</td>\n",
              "      <td>5.015893</td>\n",
              "      <td>0.188356</td>\n",
              "      <td>00:04</td>\n",
              "    </tr>\n",
              "    <tr>\n",
              "      <td>5</td>\n",
              "      <td>4.654929</td>\n",
              "      <td>4.972468</td>\n",
              "      <td>0.190290</td>\n",
              "      <td>00:04</td>\n",
              "    </tr>\n",
              "    <tr>\n",
              "      <td>6</td>\n",
              "      <td>4.424974</td>\n",
              "      <td>4.951478</td>\n",
              "      <td>0.194940</td>\n",
              "      <td>00:04</td>\n",
              "    </tr>\n",
              "    <tr>\n",
              "      <td>7</td>\n",
              "      <td>4.241974</td>\n",
              "      <td>4.949923</td>\n",
              "      <td>0.196801</td>\n",
              "      <td>00:04</td>\n",
              "    </tr>\n",
              "    <tr>\n",
              "      <td>8</td>\n",
              "      <td>4.103992</td>\n",
              "      <td>4.955640</td>\n",
              "      <td>0.196354</td>\n",
              "      <td>00:04</td>\n",
              "    </tr>\n",
              "    <tr>\n",
              "      <td>9</td>\n",
              "      <td>4.025286</td>\n",
              "      <td>4.960266</td>\n",
              "      <td>0.196429</td>\n",
              "      <td>00:04</td>\n",
              "    </tr>\n",
              "  </tbody>\n",
              "</table>"
            ],
            "text/plain": [
              "<IPython.core.display.HTML object>"
            ]
          },
          "metadata": {
            "tags": []
          }
        },
        {
          "output_type": "display_data",
          "data": {
            "text/html": [
              "<table border=\"1\" class=\"dataframe\">\n",
              "  <thead>\n",
              "    <tr style=\"text-align: left;\">\n",
              "      <th>epoch</th>\n",
              "      <th>train_loss</th>\n",
              "      <th>valid_loss</th>\n",
              "      <th>accuracy</th>\n",
              "      <th>time</th>\n",
              "    </tr>\n",
              "  </thead>\n",
              "  <tbody>\n",
              "    <tr>\n",
              "      <td>0</td>\n",
              "      <td>3.968590</td>\n",
              "      <td>4.956451</td>\n",
              "      <td>0.197879</td>\n",
              "      <td>00:05</td>\n",
              "    </tr>\n",
              "    <tr>\n",
              "      <td>1</td>\n",
              "      <td>3.891594</td>\n",
              "      <td>4.921497</td>\n",
              "      <td>0.207701</td>\n",
              "      <td>00:05</td>\n",
              "    </tr>\n",
              "    <tr>\n",
              "      <td>2</td>\n",
              "      <td>3.691188</td>\n",
              "      <td>4.934330</td>\n",
              "      <td>0.207180</td>\n",
              "      <td>00:05</td>\n",
              "    </tr>\n",
              "    <tr>\n",
              "      <td>3</td>\n",
              "      <td>3.428648</td>\n",
              "      <td>4.995906</td>\n",
              "      <td>0.207478</td>\n",
              "      <td>00:05</td>\n",
              "    </tr>\n",
              "    <tr>\n",
              "      <td>4</td>\n",
              "      <td>3.216956</td>\n",
              "      <td>5.061259</td>\n",
              "      <td>0.205060</td>\n",
              "      <td>00:05</td>\n",
              "    </tr>\n",
              "  </tbody>\n",
              "</table>"
            ],
            "text/plain": [
              "<IPython.core.display.HTML object>"
            ]
          },
          "metadata": {
            "tags": []
          }
        },
        {
          "output_type": "display_data",
          "data": {
            "text/html": [
              "<table border=\"1\" class=\"dataframe\">\n",
              "  <thead>\n",
              "    <tr style=\"text-align: left;\">\n",
              "      <th>epoch</th>\n",
              "      <th>train_loss</th>\n",
              "      <th>valid_loss</th>\n",
              "      <th>accuracy</th>\n",
              "      <th>time</th>\n",
              "    </tr>\n",
              "  </thead>\n",
              "  <tbody>\n",
              "    <tr>\n",
              "      <td>0</td>\n",
              "      <td>7.653606</td>\n",
              "      <td>6.233237</td>\n",
              "      <td>0.111177</td>\n",
              "      <td>00:04</td>\n",
              "    </tr>\n",
              "    <tr>\n",
              "      <td>1</td>\n",
              "      <td>6.280353</td>\n",
              "      <td>5.733878</td>\n",
              "      <td>0.166336</td>\n",
              "      <td>00:04</td>\n",
              "    </tr>\n",
              "    <tr>\n",
              "      <td>2</td>\n",
              "      <td>5.561140</td>\n",
              "      <td>5.319937</td>\n",
              "      <td>0.197652</td>\n",
              "      <td>00:04</td>\n",
              "    </tr>\n",
              "    <tr>\n",
              "      <td>3</td>\n",
              "      <td>5.098863</td>\n",
              "      <td>5.154798</td>\n",
              "      <td>0.211243</td>\n",
              "      <td>00:04</td>\n",
              "    </tr>\n",
              "    <tr>\n",
              "      <td>4</td>\n",
              "      <td>4.762967</td>\n",
              "      <td>5.085770</td>\n",
              "      <td>0.219279</td>\n",
              "      <td>00:04</td>\n",
              "    </tr>\n",
              "    <tr>\n",
              "      <td>5</td>\n",
              "      <td>4.486774</td>\n",
              "      <td>5.071057</td>\n",
              "      <td>0.222652</td>\n",
              "      <td>00:04</td>\n",
              "    </tr>\n",
              "    <tr>\n",
              "      <td>6</td>\n",
              "      <td>4.237877</td>\n",
              "      <td>5.068944</td>\n",
              "      <td>0.224438</td>\n",
              "      <td>00:04</td>\n",
              "    </tr>\n",
              "    <tr>\n",
              "      <td>7</td>\n",
              "      <td>4.042550</td>\n",
              "      <td>5.083763</td>\n",
              "      <td>0.226852</td>\n",
              "      <td>00:04</td>\n",
              "    </tr>\n",
              "    <tr>\n",
              "      <td>8</td>\n",
              "      <td>3.902139</td>\n",
              "      <td>5.094715</td>\n",
              "      <td>0.226422</td>\n",
              "      <td>00:04</td>\n",
              "    </tr>\n",
              "    <tr>\n",
              "      <td>9</td>\n",
              "      <td>3.822707</td>\n",
              "      <td>5.097179</td>\n",
              "      <td>0.226620</td>\n",
              "      <td>00:04</td>\n",
              "    </tr>\n",
              "  </tbody>\n",
              "</table>"
            ],
            "text/plain": [
              "<IPython.core.display.HTML object>"
            ]
          },
          "metadata": {
            "tags": []
          }
        },
        {
          "output_type": "display_data",
          "data": {
            "text/html": [
              "<table border=\"1\" class=\"dataframe\">\n",
              "  <thead>\n",
              "    <tr style=\"text-align: left;\">\n",
              "      <th>epoch</th>\n",
              "      <th>train_loss</th>\n",
              "      <th>valid_loss</th>\n",
              "      <th>accuracy</th>\n",
              "      <th>time</th>\n",
              "    </tr>\n",
              "  </thead>\n",
              "  <tbody>\n",
              "    <tr>\n",
              "      <td>0</td>\n",
              "      <td>3.741575</td>\n",
              "      <td>5.154630</td>\n",
              "      <td>0.228902</td>\n",
              "      <td>00:05</td>\n",
              "    </tr>\n",
              "    <tr>\n",
              "      <td>1</td>\n",
              "      <td>3.662651</td>\n",
              "      <td>5.210241</td>\n",
              "      <td>0.232110</td>\n",
              "      <td>00:05</td>\n",
              "    </tr>\n",
              "    <tr>\n",
              "      <td>2</td>\n",
              "      <td>3.416126</td>\n",
              "      <td>5.222067</td>\n",
              "      <td>0.233829</td>\n",
              "      <td>00:05</td>\n",
              "    </tr>\n",
              "    <tr>\n",
              "      <td>3</td>\n",
              "      <td>3.108026</td>\n",
              "      <td>5.293548</td>\n",
              "      <td>0.233631</td>\n",
              "      <td>00:05</td>\n",
              "    </tr>\n",
              "    <tr>\n",
              "      <td>4</td>\n",
              "      <td>2.873368</td>\n",
              "      <td>5.337930</td>\n",
              "      <td>0.231316</td>\n",
              "      <td>00:05</td>\n",
              "    </tr>\n",
              "  </tbody>\n",
              "</table>"
            ],
            "text/plain": [
              "<IPython.core.display.HTML object>"
            ]
          },
          "metadata": {
            "tags": []
          }
        }
      ]
    },
    {
      "cell_type": "markdown",
      "metadata": {
        "id": "L2W20TWGaDWE",
        "colab_type": "text"
      },
      "source": [
        "Oddly enough, our backwards model has higher accuracy! In any case, onto the next step!"
      ]
    },
    {
      "cell_type": "code",
      "metadata": {
        "id": "GMHlQw_SYZRX",
        "colab_type": "code",
        "colab": {}
      },
      "source": [
        "df = pd.read_csv(path/'texts.csv')"
      ],
      "execution_count": 0,
      "outputs": []
    },
    {
      "cell_type": "code",
      "metadata": {
        "id": "7VuuKtNeYZPG",
        "colab_type": "code",
        "colab": {}
      },
      "source": [
        "bs = 16\n",
        "\n",
        "data_cls_spp_fwd = (TextList.from_df(df, processor=processor, cols=1, path=path, vocab=data_lm_spp_fwd.vocab)\n",
        "             .split_from_df()\n",
        "             .label_from_df(cols=0, classes=['negative', 'positive'])\n",
        "             .databunch(bs=bs))\n",
        "\n",
        "data_cls_spp_bwd = (TextList.from_df(df, processor=processor, cols=1, path=path, vocab=data_lm_spp_bwd.vocab)\n",
        "             .split_from_df()\n",
        "             .label_from_df(cols=0, classes=['negative', 'positive'])\n",
        "             .databunch(bs=bs, backwards=True))"
      ],
      "execution_count": 0,
      "outputs": []
    },
    {
      "cell_type": "code",
      "metadata": {
        "id": "9lyb15y4YZMI",
        "colab_type": "code",
        "outputId": "ac56c5df-2c22-4e90-a066-82e994c9471b",
        "colab": {
          "base_uri": "https://localhost:8080/",
          "height": 408
        }
      },
      "source": [
        "data_cls_spp_fwd.show_batch()"
      ],
      "execution_count": 0,
      "outputs": [
        {
          "output_type": "display_data",
          "data": {
            "text/html": [
              "<table border=\"1\" class=\"dataframe\">\n",
              "  <thead>\n",
              "    <tr style=\"text-align: right;\">\n",
              "      <th>text</th>\n",
              "      <th>target</th>\n",
              "    </tr>\n",
              "  </thead>\n",
              "  <tbody>\n",
              "    <tr>\n",
              "      <td>▁xxbos ▁xxmaj ▁ra is ing ▁xxmaj ▁vic tor ▁xxmaj ▁ va r ga s : ▁a ▁xxmaj ▁review ▁xxmaj ▁you ▁know , ▁xxmaj ▁ra is ing ▁xxmaj ▁vic tor ▁xxmaj ▁ va r ga s ▁is ▁like ▁stick ing ▁your ▁hands ▁into ▁a ▁big , ▁steam ing ▁bowl ▁of ▁o at me al . ▁xxmaj ▁it ' s ▁warm ▁and ▁go o ey , ▁but ▁you ' re ▁not ▁sure</td>\n",
              "      <td>negative</td>\n",
              "    </tr>\n",
              "    <tr>\n",
              "      <td>▁xxbos ▁xxup ▁the ▁xxup ▁shop ▁xxup ▁around ▁xxup ▁the ▁xxup ▁corner ▁is ▁one ▁of ▁the ▁sweet est ▁and ▁most ▁feel - good ▁romantic ▁comedies ▁ever ▁made . ▁xxmaj ▁there ' s ▁just ▁no ▁getting ▁around ▁that , ▁and ▁it ' s ▁hard ▁to ▁actually ▁put ▁one ' s ▁feeling ▁for ▁this ▁film ▁into ▁words . ▁xxmaj ▁it ' s ▁not ▁one ▁of ▁those ▁films ▁that ▁tries ▁too ▁hard , ▁nor</td>\n",
              "      <td>positive</td>\n",
              "    </tr>\n",
              "    <tr>\n",
              "      <td>▁xxbos ▁xxmaj ▁now ▁that ▁xxmaj ▁che (200 8) ▁has ▁finished ▁its ▁relative ly ▁short ▁xxmaj ▁ australia n ▁cinema ▁run ▁( extremely ▁limited ▁release : 1 ▁screen ▁in ▁xxmaj ▁sy d ney , ▁after ▁6 w k s ), ▁i ▁can ▁guilt less ly ▁join ▁both ▁host s ▁of ▁\" at ▁xxmaj ▁the ▁xxmaj ▁movies \" ▁in ▁taking ▁xxmaj ▁steven ▁xxmaj ▁soderbergh ▁to ▁task . ▁xxmaj ▁it ' s ▁usually</td>\n",
              "      <td>negative</td>\n",
              "    </tr>\n",
              "    <tr>\n",
              "      <td>▁xxbos ▁xxmaj ▁this ▁film ▁sat ▁on ▁my ▁xxmaj ▁ ti v o ▁for ▁week s ▁before ▁i ▁watched ▁it . ▁i ▁ d read ed ▁a ▁self - indulge nt ▁ y up p ie ▁flick ▁about ▁relationships ▁gone ▁bad . ▁i ▁was ▁wrong ; ▁this ▁was ▁an ▁en g ro s s ing ▁ex cu rs ion ▁into ▁the ▁sc rew ed - up ▁ li bi do s</td>\n",
              "      <td>positive</td>\n",
              "    </tr>\n",
              "    <tr>\n",
              "      <td>▁xxbos ▁xxmaj ▁many ▁neglect ▁that ▁this ▁is n ' t ▁just ▁a ▁classic ▁due ▁to ▁the ▁fact ▁that ▁it ' s ▁the ▁first ▁xxup ▁3 d ▁game , ▁or ▁even ▁the ▁first ▁shoot - ' em - up . ▁xxmaj ▁it ' s ▁also ▁one ▁of ▁the ▁first ▁steal th ▁games , ▁one ▁of ▁the ▁only ( and ▁definite ly ▁the ▁first ) ▁truly ▁claustrophobic ▁games , ▁and ▁just ▁a</td>\n",
              "      <td>positive</td>\n",
              "    </tr>\n",
              "  </tbody>\n",
              "</table>"
            ],
            "text/plain": [
              "<IPython.core.display.HTML object>"
            ]
          },
          "metadata": {
            "tags": []
          }
        }
      ]
    },
    {
      "cell_type": "code",
      "metadata": {
        "id": "nWKQgCsPargZ",
        "colab_type": "code",
        "outputId": "7386d7d4-fe16-4ba1-ef52-51594b68147c",
        "colab": {
          "base_uri": "https://localhost:8080/",
          "height": 425
        }
      },
      "source": [
        "data_cls_spp_bwd.show_batch()"
      ],
      "execution_count": 0,
      "outputs": [
        {
          "output_type": "display_data",
          "data": {
            "text/html": [
              "<table border=\"1\" class=\"dataframe\">\n",
              "  <thead>\n",
              "    <tr style=\"text-align: right;\">\n",
              "      <th>text</th>\n",
              "      <th>target</th>\n",
              "    </tr>\n",
              "  </thead>\n",
              "  <tbody>\n",
              "    <tr>\n",
              "      <td>. s t ▁gri ▁of ▁bowl ▁a ▁into ▁hands ▁my ▁stick ▁go ▁to ▁going m ' ▁i ▁xxmaj , ▁me ▁excuse ll ' ▁you ▁if ▁so ▁xxmaj ? ▁him ▁about ▁film ▁a ▁like ▁i ▁can ▁how ▁ultimately ▁so , ▁him ▁like t ' ▁don ▁i ▁way ▁either ▁xxmaj ' ? en che - h ▁ma v ▁lu ▁my ▁into ▁get ▁to ▁want ▁ju , e be - bay ▁ y</td>\n",
              "      <td>negative</td>\n",
              "    </tr>\n",
              "    <tr>\n",
              "      <td>. ▁could ▁possibly ▁very ▁we ▁that ▁feeling ▁it ▁from ▁away ▁come ▁we ▁that ▁is ▁film ▁this ▁about ▁thing ▁best ▁the ; ▁film ▁this ▁in ed ▁depict ▁romance ▁the ▁have ▁to ▁as ▁lucky ▁so ▁be ▁all ▁should ▁we ▁xxmaj . ▁role ▁his ▁in e ▁impeccabl ▁is ▁stewart ▁xxmaj ▁and , ▁charming , ▁funny , ▁sweet s ' ▁it ▁xxmaj . ▁instead ▁christmas ▁xxmaj ▁this ▁corner ▁xxup ▁the ▁xxup ▁around ▁xxup ▁shop</td>\n",
              "      <td>positive</td>\n",
              "    </tr>\n",
              "    <tr>\n",
              "      <td>) ▁10 ▁/ 2 ( . ▁subject ▁the ▁about ring tte ma s ▁ ▁a ▁just ▁even ▁know ▁who ▁all ▁of s ▁heart ▁the ▁break ▁to d n bou ▁ ▁is ▁it ▁xxmaj . ▁costs ▁all ▁at ▁avoided ▁be ▁to , ▁film ▁soderbergh ▁xxmaj ▁a ▁for , ingly ock sh -- ery ▁mis ▁irritating , ▁confusing ▁just ▁is ite ver ▁ ▁cinema able in m ▁inter ▁this ▁of ▁rest ▁the</td>\n",
              "      <td>negative</td>\n",
              "    </tr>\n",
              "    <tr>\n",
              "      <td>. ▁end ▁xxup ▁the ▁xxup . ▁other ▁each ▁at ▁look ▁they ▁xxmaj . ▁window ▁the ▁down s ▁roll , ▁up s ▁drive ▁movie ▁the ▁in ▁earlier ▁her ▁pay t ' n ▁did ▁who or ▁contract ▁the ▁xxmaj . ▁business ▁does ▁normally ▁she ▁where ▁corner ▁the ▁at ing ▁arriv ▁and , ▁street ▁the ▁down ▁walking ▁prostitute ▁the ▁see ▁we ▁and , ▁off ▁goes ▁gun ▁the , ▁eventually ▁xxmaj . im ▁a</td>\n",
              "      <td>positive</td>\n",
              "    </tr>\n",
              "    <tr>\n",
              "      <td>▁10 ▁/ ▁8 . ▁games d ▁3 ▁xxup ▁of ▁fans ▁all ▁to ▁this ▁recommended ▁i . ▁appeared ▁first ▁he ▁after ▁years een ▁fift ▁nearly ?) ▁especially ▁even ▁maybe or ( ▁even , ▁recognition ▁the ▁deserves ▁he ... s ▁shoe s ' . j . ▁b ▁into ▁step ▁and ▁bunker ▁the ▁enter ▁to ▁door ▁the ▁open , ger ▁lu ▁xxmaj ▁the ▁up ▁load ▁so ▁xxmaj . ▁one ▁this ▁to ▁existence ▁their</td>\n",
              "      <td>positive</td>\n",
              "    </tr>\n",
              "  </tbody>\n",
              "</table>"
            ],
            "text/plain": [
              "<IPython.core.display.HTML object>"
            ]
          },
          "metadata": {
            "tags": []
          }
        }
      ]
    },
    {
      "cell_type": "markdown",
      "metadata": {
        "id": "_i10iTGVbG_w",
        "colab_type": "text"
      },
      "source": [
        "Let's make our learners and train!"
      ]
    },
    {
      "cell_type": "code",
      "metadata": {
        "id": "m7PibPvabUqL",
        "colab_type": "code",
        "colab": {}
      },
      "source": [
        "path_m = Path('/root/fastai/texts/models')"
      ],
      "execution_count": 0,
      "outputs": []
    },
    {
      "cell_type": "code",
      "metadata": {
        "id": "dzCr79cRsgXX",
        "colab_type": "code",
        "colab": {}
      },
      "source": [
        "learn_cls_spp_fwd = text_classifier_learner(data_cls_spp_fwd, AWD_LSTM, drop_mult=0.5).to_fp16()\n",
        "learn_cls_spp_bwd = text_classifier_learner(data_cls_spp_bwd, AWD_LSTM, drop_mult=0.5).to_fp16()\n",
        "learn_cls_spp_fwd.load_encoder(path_m/'spp_forward_fine_tuned_enc_10')\n",
        "learn_cls_spp_bwd.load_encoder(path_m/'spp_backward_fine_tuned_enc_10')\n",
        "learn_cls_spp_fwd.freeze()\n",
        "learn_cls_spp_bwd.freeze()"
      ],
      "execution_count": 0,
      "outputs": []
    },
    {
      "cell_type": "code",
      "metadata": {
        "id": "p_cA80bcbGj8",
        "colab_type": "code",
        "colab": {}
      },
      "source": [
        "def train_models(list:models):\n",
        "  bs = models[0].data.batch_size\n",
        "  for model in models:\n",
        "    lr = 2e-2\n",
        "    lr *= bs/48\n",
        "    model.fit_one_cycle(1, lr, moms=(0.8,0.7))\n",
        "    \n",
        "    model.freeze_to(-2)\n",
        "    model.fit_one_cycle(1, slice(lr/(2.6**4), lr), moms=(0.8,0.7))\n",
        "    \n",
        "    model.freeze_to(-3)\n",
        "    model.fit_one_cycle(1, slice(lr/2/(2.6**4), lr/2), moms=(0.8,0.7))\n",
        "    \n",
        "    model.unfreeze()\n",
        "    model.fit_one_cycle(2, slice(lr/10/(2.6**4), lr/10), moms=(0.8, 0.7))\n",
        "  return models"
      ],
      "execution_count": 0,
      "outputs": []
    },
    {
      "cell_type": "code",
      "metadata": {
        "id": "f9W9BVf7dRTJ",
        "colab_type": "code",
        "colab": {}
      },
      "source": [
        "models = [learn_cls_spp_fwd, learn_cls_spp_bwd]"
      ],
      "execution_count": 0,
      "outputs": []
    },
    {
      "cell_type": "code",
      "metadata": {
        "id": "KR7YNsl8dUSX",
        "colab_type": "code",
        "outputId": "773d6439-b12e-4b93-d202-95ff7a255e7f",
        "colab": {
          "base_uri": "https://localhost:8080/",
          "height": 583
        }
      },
      "source": [
        "learn_cls_spp_fwd, learn_cls_spp_bwd = train_models(models)"
      ],
      "execution_count": 0,
      "outputs": [
        {
          "output_type": "display_data",
          "data": {
            "text/html": [
              "<table border=\"1\" class=\"dataframe\">\n",
              "  <thead>\n",
              "    <tr style=\"text-align: left;\">\n",
              "      <th>epoch</th>\n",
              "      <th>train_loss</th>\n",
              "      <th>valid_loss</th>\n",
              "      <th>accuracy</th>\n",
              "      <th>time</th>\n",
              "    </tr>\n",
              "  </thead>\n",
              "  <tbody>\n",
              "    <tr>\n",
              "      <td>0</td>\n",
              "      <td>0.662650</td>\n",
              "      <td>0.621215</td>\n",
              "      <td>0.685000</td>\n",
              "      <td>00:06</td>\n",
              "    </tr>\n",
              "  </tbody>\n",
              "</table>"
            ],
            "text/plain": [
              "<IPython.core.display.HTML object>"
            ]
          },
          "metadata": {
            "tags": []
          }
        },
        {
          "output_type": "display_data",
          "data": {
            "text/html": [
              "<table border=\"1\" class=\"dataframe\">\n",
              "  <thead>\n",
              "    <tr style=\"text-align: left;\">\n",
              "      <th>epoch</th>\n",
              "      <th>train_loss</th>\n",
              "      <th>valid_loss</th>\n",
              "      <th>accuracy</th>\n",
              "      <th>time</th>\n",
              "    </tr>\n",
              "  </thead>\n",
              "  <tbody>\n",
              "    <tr>\n",
              "      <td>0</td>\n",
              "      <td>0.630213</td>\n",
              "      <td>0.673570</td>\n",
              "      <td>0.685000</td>\n",
              "      <td>00:07</td>\n",
              "    </tr>\n",
              "  </tbody>\n",
              "</table>"
            ],
            "text/plain": [
              "<IPython.core.display.HTML object>"
            ]
          },
          "metadata": {
            "tags": []
          }
        },
        {
          "output_type": "display_data",
          "data": {
            "text/html": [
              "<table border=\"1\" class=\"dataframe\">\n",
              "  <thead>\n",
              "    <tr style=\"text-align: left;\">\n",
              "      <th>epoch</th>\n",
              "      <th>train_loss</th>\n",
              "      <th>valid_loss</th>\n",
              "      <th>accuracy</th>\n",
              "      <th>time</th>\n",
              "    </tr>\n",
              "  </thead>\n",
              "  <tbody>\n",
              "    <tr>\n",
              "      <td>0</td>\n",
              "      <td>0.558474</td>\n",
              "      <td>0.609428</td>\n",
              "      <td>0.675000</td>\n",
              "      <td>00:09</td>\n",
              "    </tr>\n",
              "  </tbody>\n",
              "</table>"
            ],
            "text/plain": [
              "<IPython.core.display.HTML object>"
            ]
          },
          "metadata": {
            "tags": []
          }
        },
        {
          "output_type": "display_data",
          "data": {
            "text/html": [
              "<table border=\"1\" class=\"dataframe\">\n",
              "  <thead>\n",
              "    <tr style=\"text-align: left;\">\n",
              "      <th>epoch</th>\n",
              "      <th>train_loss</th>\n",
              "      <th>valid_loss</th>\n",
              "      <th>accuracy</th>\n",
              "      <th>time</th>\n",
              "    </tr>\n",
              "  </thead>\n",
              "  <tbody>\n",
              "    <tr>\n",
              "      <td>0</td>\n",
              "      <td>0.470216</td>\n",
              "      <td>0.619855</td>\n",
              "      <td>0.660000</td>\n",
              "      <td>00:12</td>\n",
              "    </tr>\n",
              "    <tr>\n",
              "      <td>1</td>\n",
              "      <td>0.447875</td>\n",
              "      <td>0.640083</td>\n",
              "      <td>0.640000</td>\n",
              "      <td>00:12</td>\n",
              "    </tr>\n",
              "  </tbody>\n",
              "</table>"
            ],
            "text/plain": [
              "<IPython.core.display.HTML object>"
            ]
          },
          "metadata": {
            "tags": []
          }
        },
        {
          "output_type": "display_data",
          "data": {
            "text/html": [
              "<table border=\"1\" class=\"dataframe\">\n",
              "  <thead>\n",
              "    <tr style=\"text-align: left;\">\n",
              "      <th>epoch</th>\n",
              "      <th>train_loss</th>\n",
              "      <th>valid_loss</th>\n",
              "      <th>accuracy</th>\n",
              "      <th>time</th>\n",
              "    </tr>\n",
              "  </thead>\n",
              "  <tbody>\n",
              "    <tr>\n",
              "      <td>0</td>\n",
              "      <td>0.629664</td>\n",
              "      <td>0.618361</td>\n",
              "      <td>0.645000</td>\n",
              "      <td>00:06</td>\n",
              "    </tr>\n",
              "  </tbody>\n",
              "</table>"
            ],
            "text/plain": [
              "<IPython.core.display.HTML object>"
            ]
          },
          "metadata": {
            "tags": []
          }
        },
        {
          "output_type": "display_data",
          "data": {
            "text/html": [
              "<table border=\"1\" class=\"dataframe\">\n",
              "  <thead>\n",
              "    <tr style=\"text-align: left;\">\n",
              "      <th>epoch</th>\n",
              "      <th>train_loss</th>\n",
              "      <th>valid_loss</th>\n",
              "      <th>accuracy</th>\n",
              "      <th>time</th>\n",
              "    </tr>\n",
              "  </thead>\n",
              "  <tbody>\n",
              "    <tr>\n",
              "      <td>0</td>\n",
              "      <td>0.609980</td>\n",
              "      <td>0.605668</td>\n",
              "      <td>0.680000</td>\n",
              "      <td>00:07</td>\n",
              "    </tr>\n",
              "  </tbody>\n",
              "</table>"
            ],
            "text/plain": [
              "<IPython.core.display.HTML object>"
            ]
          },
          "metadata": {
            "tags": []
          }
        },
        {
          "output_type": "display_data",
          "data": {
            "text/html": [
              "<table border=\"1\" class=\"dataframe\">\n",
              "  <thead>\n",
              "    <tr style=\"text-align: left;\">\n",
              "      <th>epoch</th>\n",
              "      <th>train_loss</th>\n",
              "      <th>valid_loss</th>\n",
              "      <th>accuracy</th>\n",
              "      <th>time</th>\n",
              "    </tr>\n",
              "  </thead>\n",
              "  <tbody>\n",
              "    <tr>\n",
              "      <td>0</td>\n",
              "      <td>0.573174</td>\n",
              "      <td>0.576597</td>\n",
              "      <td>0.705000</td>\n",
              "      <td>00:09</td>\n",
              "    </tr>\n",
              "  </tbody>\n",
              "</table>"
            ],
            "text/plain": [
              "<IPython.core.display.HTML object>"
            ]
          },
          "metadata": {
            "tags": []
          }
        },
        {
          "output_type": "display_data",
          "data": {
            "text/html": [
              "<table border=\"1\" class=\"dataframe\">\n",
              "  <thead>\n",
              "    <tr style=\"text-align: left;\">\n",
              "      <th>epoch</th>\n",
              "      <th>train_loss</th>\n",
              "      <th>valid_loss</th>\n",
              "      <th>accuracy</th>\n",
              "      <th>time</th>\n",
              "    </tr>\n",
              "  </thead>\n",
              "  <tbody>\n",
              "    <tr>\n",
              "      <td>0</td>\n",
              "      <td>0.501281</td>\n",
              "      <td>0.571550</td>\n",
              "      <td>0.735000</td>\n",
              "      <td>00:12</td>\n",
              "    </tr>\n",
              "    <tr>\n",
              "      <td>1</td>\n",
              "      <td>0.484979</td>\n",
              "      <td>0.562025</td>\n",
              "      <td>0.705000</td>\n",
              "      <td>00:12</td>\n",
              "    </tr>\n",
              "  </tbody>\n",
              "</table>"
            ],
            "text/plain": [
              "<IPython.core.display.HTML object>"
            ]
          },
          "metadata": {
            "tags": []
          }
        }
      ]
    },
    {
      "cell_type": "markdown",
      "metadata": {
        "id": "FB-KlAYJbGYO",
        "colab_type": "text"
      },
      "source": [
        "Notice we still see that strange behavior, the backwards model outperformed the forwards model! In any case, time for an ensemble again!"
      ]
    },
    {
      "cell_type": "code",
      "metadata": {
        "id": "VPk53GFGd0Nz",
        "colab_type": "code",
        "colab": {}
      },
      "source": [
        "preds_a, targs_a = learn_cls_spa_fwd.get_preds(ordered=True)\n",
        "preds_b, targs_b = learn_cls_spa_bwd.get_preds(ordered=True)\n",
        "preds_c, targs_c = learn_cls_spp_fwd.get_preds(ordered=True)\n",
        "preds_d, targs_d = learn_cls_spp_bwd.get_preds(ordered=True)"
      ],
      "execution_count": 0,
      "outputs": []
    },
    {
      "cell_type": "code",
      "metadata": {
        "id": "QhqCTNL8elX6",
        "colab_type": "code",
        "outputId": "f206c6bb-6d2e-4d17-b3fd-f6f359ed1ba9",
        "colab": {
          "base_uri": "https://localhost:8080/",
          "height": 34
        }
      },
      "source": [
        "accuracy(preds_a, targs_b) == accuracy(preds_a, targs_a)"
      ],
      "execution_count": 0,
      "outputs": [
        {
          "output_type": "execute_result",
          "data": {
            "text/plain": [
              "tensor(1, dtype=torch.uint8)"
            ]
          },
          "metadata": {
            "tags": []
          },
          "execution_count": 111
        }
      ]
    },
    {
      "cell_type": "code",
      "metadata": {
        "id": "00GiROV3eqOC",
        "colab_type": "code",
        "outputId": "758f4c8e-db03-4b6b-d38e-b695ba561823",
        "colab": {
          "base_uri": "https://localhost:8080/",
          "height": 34
        }
      },
      "source": [
        "accuracy(preds_a, targs_d) == accuracy(preds_a, targs_a)"
      ],
      "execution_count": 0,
      "outputs": [
        {
          "output_type": "execute_result",
          "data": {
            "text/plain": [
              "tensor(1, dtype=torch.uint8)"
            ]
          },
          "metadata": {
            "tags": []
          },
          "execution_count": 112
        }
      ]
    },
    {
      "cell_type": "code",
      "metadata": {
        "id": "x9oY5xv0fBm7",
        "colab_type": "code",
        "colab": {}
      },
      "source": [
        "preds_spa = (preds_a + preds_b) /2\n",
        "preds_spp = (preds_c + preds_d) /2"
      ],
      "execution_count": 0,
      "outputs": []
    },
    {
      "cell_type": "code",
      "metadata": {
        "id": "-AEJYTKxes7e",
        "colab_type": "code",
        "colab": {}
      },
      "source": [
        "preds_avg = (preds_spa + preds_spp)/2"
      ],
      "execution_count": 0,
      "outputs": []
    },
    {
      "cell_type": "code",
      "metadata": {
        "id": "N5eMLmbheyJO",
        "colab_type": "code",
        "outputId": "a16caaf3-4eec-4351-8f62-9eb490462e21",
        "colab": {
          "base_uri": "https://localhost:8080/",
          "height": 34
        }
      },
      "source": [
        "accuracy(preds_avg, targs_a)"
      ],
      "execution_count": 0,
      "outputs": [
        {
          "output_type": "execute_result",
          "data": {
            "text/plain": [
              "tensor(0.8000)"
            ]
          },
          "metadata": {
            "tags": []
          },
          "execution_count": 120
        }
      ]
    },
    {
      "cell_type": "markdown",
      "metadata": {
        "id": "LN9-TpYffR-a",
        "colab_type": "text"
      },
      "source": [
        "Couldn't quite beat it.... odd. Perhaps something wen't wrong? Perhaps we need to actually use the entire dataset. I leave that to you all to run for yourselves and see how you do, you have most of the code already!"
      ]
    },
    {
      "cell_type": "code",
      "metadata": {
        "id": "_d8sV4jye1CI",
        "colab_type": "code",
        "outputId": "1ffa23cb-5d8d-49c7-ef94-d2a1eb194035",
        "colab": {
          "base_uri": "https://localhost:8080/",
          "height": 34
        }
      },
      "source": [
        "accuracy(preds_spa, targs_a)"
      ],
      "execution_count": 0,
      "outputs": [
        {
          "output_type": "execute_result",
          "data": {
            "text/plain": [
              "tensor(0.8400)"
            ]
          },
          "metadata": {
            "tags": []
          },
          "execution_count": 121
        }
      ]
    },
    {
      "cell_type": "code",
      "metadata": {
        "id": "JvXwsY5fe92j",
        "colab_type": "code",
        "outputId": "5249bf18-4486-4878-a7d9-b1b06d91a300",
        "colab": {
          "base_uri": "https://localhost:8080/",
          "height": 34
        }
      },
      "source": [
        "accuracy(preds_spp, targs_a)"
      ],
      "execution_count": 0,
      "outputs": [
        {
          "output_type": "execute_result",
          "data": {
            "text/plain": [
              "tensor(0.6950)"
            ]
          },
          "metadata": {
            "tags": []
          },
          "execution_count": 122
        }
      ]
    },
    {
      "cell_type": "markdown",
      "metadata": {
        "id": "T9dDZ2VMfkwd",
        "colab_type": "text"
      },
      "source": [
        "Notice our SentencePiece model did not do nearly as well. Perhaps we need to fit our language model for longer."
      ]
    },
    {
      "cell_type": "markdown",
      "metadata": {
        "id": "RNT3GMnenWaP",
        "colab_type": "text"
      },
      "source": [
        "Now, a few things to note:\n",
        "\n",
        "* On average, we want our language model to be at rougly 30% accuracy, so this was not a fully trained model\n",
        "* This was mostly to show\n",
        "* Notebook 05_d shows what you should actually expect when ensembling, and those results look *much* better"
      ]
    },
    {
      "cell_type": "code",
      "metadata": {
        "id": "QHPXsqA4nm0p",
        "colab_type": "code",
        "colab": {}
      },
      "source": [
        ""
      ],
      "execution_count": 0,
      "outputs": []
    }
  ]
}
